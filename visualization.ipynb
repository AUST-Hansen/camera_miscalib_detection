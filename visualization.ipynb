{
 "cells": [
  {
   "cell_type": "code",
   "execution_count": 1,
   "metadata": {},
   "outputs": [],
   "source": [
    "from __future__ import print_function\n",
    "import numpy as np\n",
    "import os\n",
    "import sys\n",
    "import time\n",
    "import pickle\n",
    "import tensorflow as tf"
   ]
  },
  {
   "cell_type": "code",
   "execution_count": 2,
   "metadata": {},
   "outputs": [],
   "source": [
    "from matplotlib import pyplot as plt\n",
    "%matplotlib inline"
   ]
  },
  {
   "cell_type": "code",
   "execution_count": 3,
   "metadata": {},
   "outputs": [],
   "source": [
    "# Configuration for TF Session\n",
    "config = tf.ConfigProto()\n",
    "config.gpu_options.allow_growth = True"
   ]
  },
  {
   "cell_type": "markdown",
   "metadata": {},
   "source": [
    "## Guided ReLU for guided backpropogation\n",
    "\n",
    "Source: https://github.com/adityac94/Grad_CAM_plus_plus/blob/master/misc/GuideReLU.py"
   ]
  },
  {
   "cell_type": "code",
   "execution_count": 4,
   "metadata": {},
   "outputs": [],
   "source": [
    "# Replace vanila relu to guided relu to get guided backpropagation.\n",
    "from tensorflow.python.framework import ops\n",
    "from tensorflow.python.ops import gen_nn_ops\n",
    "import tensorflow as tf\n",
    "\n",
    "@ops.RegisterGradient(\"GuidedRelu\")\n",
    "def _GuidedReluGrad(op, grad):\n",
    "    return tf.where(0. < grad, gen_nn_ops._relu_grad(grad, op.outputs[0]), tf.zeros_like(grad))"
   ]
  },
  {
   "cell_type": "markdown",
   "metadata": {},
   "source": [
    "## Retrieve the dataset generator"
   ]
  },
  {
   "cell_type": "code",
   "execution_count": 5,
   "metadata": {},
   "outputs": [
    {
     "name": "stdout",
     "output_type": "stream",
     "text": [
      "KITTI Index File: /home/mayankm/my_projects/data/kitti/KITTI_index.csv\n",
      "Model Path: /media/storage/my_projects/semantics_miscalib_PLR/plr_miscalib_detection/models/miscalib-model-cam03\n"
     ]
    }
   ],
   "source": [
    "index = os.path.abspath('/home/mayankm/my_projects/data/kitti/KITTI_index.csv')\n",
    "test_selector = '2011_09_30'\n",
    "n_test_samples = 1\n",
    "batch_size = 1\n",
    "buffer_size = 32\n",
    "model_path = os.path.abspath('models/miscalib-model-cam03/')\n",
    "model_name = 'model-22-46483'\n",
    "verbosity = 1\n",
    "njobs = 9\n",
    "\n",
    "print('KITTI Index File: ' + index)\n",
    "print('Model Path: ' + model_path)"
   ]
  },
  {
   "cell_type": "code",
   "execution_count": 6,
   "metadata": {},
   "outputs": [
    {
     "name": "stdout",
     "output_type": "stream",
     "text": [
      "1230 images found in 2 folders grouped in 2 groups from index file /home/mayankm/my_projects/data/kitti/KITTI_index.csv, when applying selector '2011_09_30'.\n",
      "The samplers were initialized in 27.80 sec.\n"
     ]
    }
   ],
   "source": [
    "# Load the dataset.\n",
    "from dataset import Dataset\n",
    "\n",
    "dataset_test = Dataset(index, selector=test_selector, internal_shuffle=True,\n",
    "                       num_of_samples=n_test_samples, n_jobs=njobs, verbose=verbosity)"
   ]
  },
  {
   "cell_type": "code",
   "execution_count": 7,
   "metadata": {},
   "outputs": [
    {
     "name": "stdout",
     "output_type": "stream",
     "text": [
      "Test with 1 images\n"
     ]
    },
    {
     "name": "stderr",
     "output_type": "stream",
     "text": [
      "/home/mayankm/.virtualenvs/plr_pytorch/lib/python3.5/site-packages/sklearn/base.py:306: UserWarning: Trying to unpickle estimator StandardScaler from version 0.20.3 when using version 0.21.1. This might lead to breaking code or invalid results. Use at your own risk.\n",
      "  UserWarning)\n"
     ]
    }
   ],
   "source": [
    "from __future__ import unicode_literals\n",
    "# Load previous scaler\n",
    "scaler_path = os.path.join(model_path, 'scaler.p')\n",
    "scaler = pickle.load(open(scaler_path, 'rb'), encoding='latin1')\n",
    "dataset_test.set_scaler(scaler)\n",
    "\n",
    "print('Test with %d images' % (dataset_test.n_samples))\n",
    "\n",
    "ids_test = np.arange(dataset_test.n_samples)"
   ]
  },
  {
   "cell_type": "code",
   "execution_count": 8,
   "metadata": {},
   "outputs": [
    {
     "name": "stdout",
     "output_type": "stream",
     "text": [
      "Filling generator buffer. Done\n"
     ]
    }
   ],
   "source": [
    "# Create batch generators for the test sets.\n",
    "from generator import Generator\n",
    "\n",
    "gen_test = Generator(dataset_test, ids_test, batch_size=batch_size, shuffle=True,\n",
    "                     buffer_size=buffer_size, verbose=verbosity)\n",
    "\n",
    "# Define tf model.\n",
    "import tensorflow as tf\n",
    "tf.reset_default_graph()\n",
    "\n",
    "# Set tensorflow to only log errors\n",
    "if verbosity == 0:\n",
    "    tf.logging.set_verbosity(tf.logging.ERROR)"
   ]
  },
  {
   "cell_type": "code",
   "execution_count": 9,
   "metadata": {},
   "outputs": [
    {
     "name": "stdout",
     "output_type": "stream",
     "text": [
      "Loading model metafile:  /media/storage/my_projects/semantics_miscalib_PLR/plr_miscalib_detection/models/miscalib-model-cam03/model-22-46483.meta\n",
      "Input shape:  (512, 1392, 3)\n"
     ]
    }
   ],
   "source": [
    "# Load previous metegraph\n",
    "meta_file = os.path.join(model_path, model_name + '.meta')\n",
    "print(\"Loading model metafile: \", meta_file)\n",
    "saver = tf.train.import_meta_graph(meta_file)\n",
    "graph = tf.get_default_graph()\n",
    "\n",
    "# Check input shape\n",
    "print(\"Input shape: \", dataset_test.shape)"
   ]
  },
  {
   "cell_type": "markdown",
   "metadata": {},
   "source": [
    "## Retrieve TF Tensors for Evaluation"
   ]
  },
  {
   "cell_type": "code",
   "execution_count": 23,
   "metadata": {},
   "outputs": [
    {
     "name": "stdout",
     "output_type": "stream",
     "text": [
      "Tensor(\"input_image:0\", shape=(?, 512, 1392, 3), dtype=float32)\n"
     ]
    }
   ],
   "source": [
    "# Inputs.\n",
    "input_image_tf = graph.get_tensor_by_name('input_image:0')\n",
    "y_true_tf = graph.get_tensor_by_name('y_true:0')\n",
    "\n",
    "training_tf = graph.get_tensor_by_name('training:0')\n",
    "\n",
    "loss_tf = graph.get_tensor_by_name('loss_mse:0')\n",
    "error_tf = graph.get_tensor_by_name('error_mae:0')\n",
    "\n",
    "# Global step for logging.\n",
    "global_step = 0\n",
    "\n",
    "print(input_image_tf)"
   ]
  },
  {
   "cell_type": "markdown",
   "metadata": {},
   "source": [
    "## Implementation of GradCAM++"
   ]
  },
  {
   "cell_type": "code",
   "execution_count": 11,
   "metadata": {},
   "outputs": [],
   "source": [
    "#  get the names of all the tensors in the graph\n",
    "# [n.name for n in tf.get_default_graph().as_graph_def().node]"
   ]
  },
  {
   "cell_type": "code",
   "execution_count": 12,
   "metadata": {},
   "outputs": [],
   "source": [
    "target_conv_layer = graph.get_tensor_by_name('conv_block_7/conv2/Relu:0')\n",
    "output_neuron = graph.get_tensor_by_name('Squeeze:0')"
   ]
  },
  {
   "cell_type": "code",
   "execution_count": 24,
   "metadata": {},
   "outputs": [],
   "source": [
    "from skimage.transform import resize\n",
    "\n",
    "def compute_gradcam_plusplus(conv_output, conv_first_grad, conv_second_grad, conv_third_grad, shape=(512, 1392)):\n",
    "    \"\"\" Computes the GradCAM++\n",
    "    \"\"\"\n",
    "    global_sum = np.sum(conv_output[0].reshape((-1,conv_first_grad[0].shape[2])), axis=0)\n",
    "\n",
    "    alpha_num = conv_second_grad[0]\n",
    "    alpha_denom = conv_second_grad[0]*2.0 + conv_third_grad[0]*global_sum.reshape((1,1,conv_first_grad[0].shape[2]))\n",
    "    alpha_denom = np.where(alpha_denom != 0.0, alpha_denom, np.ones(alpha_denom.shape))\n",
    "    alphas = alpha_num/alpha_denom\n",
    "\n",
    "    weights = np.maximum(conv_first_grad[0], 0.0)\n",
    "    #normalizing the alphas\n",
    "    \"\"\"\t\n",
    "    alpha_normalization_constant = np.sum(np.sum(alphas, axis=0),axis=0)\n",
    "\n",
    "    alphas /= alpha_normalization_constant.reshape((1,1,conv_first_grad[0].shape[2]))\n",
    "    \"\"\"\n",
    "\n",
    "    alphas_thresholding = np.where(weights, alphas, 0.0)\n",
    "\n",
    "    alpha_normalization_constant = np.sum(np.sum(alphas_thresholding, axis=0),axis=0)\n",
    "    alpha_normalization_constant_processed = np.where(alpha_normalization_constant != 0.0, alpha_normalization_constant, np.ones(alpha_normalization_constant.shape))\n",
    "\n",
    "\n",
    "    alphas /= alpha_normalization_constant_processed.reshape((1,1,conv_first_grad[0].shape[2]))\n",
    "\n",
    "\n",
    "\n",
    "    deep_linearization_weights = np.sum((weights*alphas).reshape((-1,conv_first_grad[0].shape[2])),axis=0)\n",
    "    \n",
    "    # print deep_linearization_weights\n",
    "    grad_CAM_map = np.sum(deep_linearization_weights*conv_output[0], axis=2)\n",
    "\n",
    "    # Passing through ReLU\n",
    "    cam = np.maximum(grad_CAM_map, 0)\n",
    "    cam = cam / np.max(cam) # scale 0 to 1.0   \n",
    "\n",
    "    cam = resize(cam, shape)\n",
    "    # Passing through ReLU\n",
    "    cam = np.maximum(grad_CAM_map, 0)\n",
    "    cam = cam / np.max(cam) # scale 0 to 1.0    \n",
    "    cam = resize(cam, shape)\n",
    "    \n",
    "    # return the cam array\n",
    "    return cam"
   ]
  },
  {
   "cell_type": "code",
   "execution_count": 67,
   "metadata": {},
   "outputs": [],
   "source": [
    "import cv2\n",
    "def visualize(img, cam):\n",
    "  \n",
    "    fig, ax = plt.subplots(nrows=2,ncols=1)\n",
    "\n",
    "#     plt.subplot(311)\n",
    "#     plt.axis(\"off\")\n",
    "#     imgplot = plt.imshow(img)\n",
    "    \n",
    "#     gb_viz = np.dstack((\n",
    "#                 gb_viz[:, :, 2],\n",
    "#                 gb_viz[:, :, 1],\n",
    "#                 gb_viz[:, :, 0],\n",
    "#                 ))\n",
    "\n",
    "#     gb_viz -= np.min(gb_viz)\n",
    "#     gb_viz /= gb_viz.max()\n",
    "    \n",
    "#     gd_img = gb_viz*np.minimum(0.25,cam).reshape(512, 1392,1)\n",
    "#     x = gd_img\n",
    "#     x = np.squeeze(x)\n",
    "    \n",
    "#     #normalize tensor\n",
    "#     x -= x.mean()\n",
    "#     x /= (x.std() + 1e-5)\n",
    "#     x *= 0.1\n",
    "\n",
    "#     # clip to [0, 1]\n",
    "#     x += 0.5\n",
    "#     x = np.clip(x, 0, 1)\n",
    "\n",
    "#     # convert to RGB array\n",
    "#     x *= 255\n",
    "   \n",
    "#     x = np.clip(x, 0, 255).astype('uint8')\n",
    "\n",
    "#     plt.axis(\"off\")\n",
    "#     imgplot = plt.imshow(x, vmin = 0, vmax = 20)\n",
    "    \n",
    "    plt.subplot(211)\n",
    "    plt.axis(\"off\")\n",
    "    cam = (cam*-1.0) + 1.0\n",
    "    cam_heatmap = np.array(cv2.applyColorMap(np.uint8(255*cam), cv2.COLORMAP_JET))\n",
    "    imgplot = plt.imshow(cam_heatmap)\n",
    "\n",
    "    plt.subplot(212)\n",
    "    plt.axis(\"off\")\n",
    "    cam_heatmap = cam_heatmap/255.0\n",
    "    fin = (img * 0.7) + (cam_heatmap*0.3)\n",
    "    imgplot = plt.imshow(img)"
   ]
  },
  {
   "cell_type": "code",
   "execution_count": 68,
   "metadata": {},
   "outputs": [],
   "source": [
    "with graph.as_default():\n",
    "    with graph.gradient_override_map({'Relu': 'GuidedRelu'}):\n",
    "        # get the output neuron corresponding to the class of interest (label_id)\n",
    "        cost = output_neuron\n",
    "        \n",
    "        # get last convolutional layer gradients for generating gradCAM++ visualization\n",
    "        target_conv_layer_grad = tf.gradients(cost, target_conv_layer)[0]\n",
    "        \n",
    "        # first_derivative\n",
    "        first_derivative = tf.exp(cost) * target_conv_layer_grad\n",
    "        # second_derivative\n",
    "        second_derivative = tf.exp(cost) * target_conv_layer_grad * target_conv_layer_grad \n",
    "        # triple_derivative\n",
    "        triple_derivative = tf.exp(cost) * target_conv_layer_grad * target_conv_layer_grad * target_conv_layer_grad\n",
    "        \n",
    "        # get gradients with respect to input for guided backprop\n",
    "        gb_grad = tf.gradients(cost, input_image_tf)"
   ]
  },
  {
   "cell_type": "code",
   "execution_count": 70,
   "metadata": {},
   "outputs": [
    {
     "name": "stdout",
     "output_type": "stream",
     "text": [
      "INFO:tensorflow:Restoring parameters from /media/storage/my_projects/semantics_miscalib_PLR/plr_miscalib_detection/models/miscalib-model-cam03/model-22-46483\n",
      "step     1 Test: loss_mse: 0.1294 err_mae 0.3597"
     ]
    },
    {
     "name": "stderr",
     "output_type": "stream",
     "text": [
      "Clipping input data to the valid range for imshow with RGB data ([0..1] for floats or [0..255] for integers).\n"
     ]
    },
    {
     "data": {
      "image/png": "[encoded data removed]",
      "text/plain": [
       "<Figure size 432x288 with 2 Axes>"
      ]
     },
     "metadata": {
      "needs_background": "light"
     },
     "output_type": "display_data"
    }
   ],
   "source": [
    "with tf.Session(config=config) as sess:\n",
    "    # Initialize tf variables.\n",
    "    tf.global_variables_initializer().run()\n",
    "\n",
    "    # load the model\n",
    "    model_file = os.path.join(model_path, model_name)\n",
    "    saver.restore(sess, model_file)\n",
    "\n",
    "    # Sequence of train and validation batches.\n",
    "    test_step = 0\n",
    "\n",
    "    for b in range(gen_test.n_batches):\n",
    "        images_batch, labels_batch = gen_test.next()\n",
    "\n",
    "        # Calculate validation loss.\n",
    "        batch_loss, batch_error = sess.run(\n",
    "            [loss_tf, error_tf],\n",
    "            feed_dict={input_image_tf: images_batch,\n",
    "                       y_true_tf: labels_batch})\n",
    "\n",
    "        # Print results.\n",
    "        test_step += 1\n",
    "        sys.stdout.write('\\b' * console_output_size)\n",
    "\n",
    "        console_output = 'step %5d ' % test_step\n",
    "        console_output += 'Test: loss_mse: %.4f err_mae %.4f' % (\n",
    "            batch_loss, batch_error)\n",
    "\n",
    "        console_output_size = len(console_output)\n",
    "\n",
    "        sys.stdout.write(console_output)\n",
    "        sys.stdout.flush()\n",
    "\n",
    "        # Compute the GradCAM gradients\n",
    "        conv_output, conv_first_grad, conv_second_grad, conv_third_grad = sess.run(\n",
    "            [target_conv_layer, first_derivative, second_derivative, triple_derivative], \n",
    "            feed_dict={input_image_tf: images_batch,\n",
    "                       y_true_tf: labels_batch})\n",
    "\n",
    "        # Compute the mask image\n",
    "        cam = compute_gradcam_plusplus(conv_output, conv_first_grad, conv_second_grad, conv_third_grad)\n",
    "\n",
    "        # Compute the guided backprop \n",
    "        gb_grad_value = sess.run(\n",
    "            gb_grad, \n",
    "            feed_dict={input_image_tf: images_batch,\n",
    "                       y_true_tf: labels_batch})\n",
    "\n",
    "        visualize(images_batch[0], cam)"
   ]
  },
  {
   "cell_type": "markdown",
   "metadata": {},
   "source": [
    "## Model Evalutation"
   ]
  },
  {
   "cell_type": "code",
   "execution_count": 44,
   "metadata": {},
   "outputs": [
    {
     "name": "stdout",
     "output_type": "stream",
     "text": [
      "INFO:tensorflow:Restoring parameters from /media/storage/my_projects/semantics_miscalib_PLR/plr_miscalib_detection/models/miscalib-model-cam03/model-22-46483\n",
      "step     1 Test: loss_mse: 0.0005 err_mae 0.0234\n"
     ]
    }
   ],
   "source": [
    "with tf.Session(config=config) as sess:\n",
    "    # Initialize tf variables.\n",
    "    tf.global_variables_initializer().run()\n",
    "\n",
    "    model_file = os.path.join(model_path, model_name)\n",
    "    saver.restore(sess, model_file)\n",
    "    \n",
    "    # Sequence of train and validation batches.\n",
    "    test_loss = 0\n",
    "    test_error = 0\n",
    "    test_step = 0\n",
    "\n",
    "    console_output_size = 0\n",
    "    for b in range(gen_test.n_batches):\n",
    "        images_batch, labels_batch = gen_test.next()\n",
    "\n",
    "        # Calculate validation loss.\n",
    "        batch_loss, batch_error = sess.run(\n",
    "            [loss_tf, error_tf],\n",
    "            feed_dict={input_image_tf: images_batch,\n",
    "                       y_true_tf: labels_batch})\n",
    "        test_loss += batch_loss\n",
    "        test_error += batch_error\n",
    "        test_step += 1\n",
    "\n",
    "        # Print results.\n",
    "        sys.stdout.write('\\b' * console_output_size)\n",
    "\n",
    "        console_output = 'step %5d ' % test_step\n",
    "        console_output += 'Test: loss_mse: %.4f err_mae %.4f' % (\n",
    "            test_loss / test_step, test_error / test_step)\n",
    "\n",
    "        console_output_size = len(console_output)\n",
    "\n",
    "        sys.stdout.write(console_output)\n",
    "        sys.stdout.flush()\n",
    "\n",
    "    print()"
   ]
  },
  {
   "cell_type": "code",
   "execution_count": 45,
   "metadata": {},
   "outputs": [],
   "source": [
    "dataset_test.stop()"
   ]
  }
 ],
 "metadata": {
  "kernelspec": {
   "display_name": "plr_pytorch",
   "language": "python",
   "name": "plr_pytorch"
  },
  "language_info": {
   "codemirror_mode": {
    "name": "ipython",
    "version": 3
   },
   "file_extension": ".py",
   "mimetype": "text/x-python",
   "name": "python",
   "nbconvert_exporter": "python",
   "pygments_lexer": "ipython3",
   "version": "3.5.2"
  }
 },
 "nbformat": 4,
 "nbformat_minor": 2
}
